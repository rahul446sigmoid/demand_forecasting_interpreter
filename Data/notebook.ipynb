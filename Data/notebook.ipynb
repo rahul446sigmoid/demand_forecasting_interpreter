{
 "cells": [
  {
   "cell_type": "code",
   "execution_count": 31,
   "metadata": {},
   "outputs": [
    {
     "name": "stdout",
     "output_type": "stream",
     "text": [
      "Historical Trends:\n",
      "\n",
      "The trend for historical data is increasing\n",
      "--------------------------------------------------\n",
      "Forecasted Trends:\n",
      "\n",
      "The trend for forecasted data is decreasing\n",
      "--------------------------------------------------\n",
      "Seasonality Analysis:\n",
      "\n",
      "The quarter with maximum sales is Q4 and the month with maximum sales is October.\n",
      "The quarter with minimum sales is Q1 and the month with minimum sales is February\n",
      "--------------------------------------------------\n",
      "Year-on-Year (YoY) Growth Analysis:\n",
      "\n",
      "The average volume change is 0.411.\n",
      "The maximum volume change occurred in 2021 with a YoY growth of 4.093%.\n",
      "The maximum negative volume change occurred in 2018 with a YoY growth of -1.822%\n",
      "--------------------------------------------------\n",
      "Conclusion:\n",
      "\n",
      "Based on the analysis, the historical trend is increasing while the forecasted trend is decreasing. The data also shows a seasonal pattern with maximum sales occurring in Q4 and October and minimum sales occurring in Q1 and February. The YoY growth analysis indicates an average volume change of 0.411 with the maximum volume change occurring in 2021 and the maximum negative volume change occurring in 2018\n",
      "--------------------------------------------------\n"
     ]
    }
   ],
   "source": [
    "text = \"\"\"\n",
    "Historical Trends:\n",
    "The trend for historical data is increasing.\n",
    "Forecasted Trends:\n",
    "The trend for forecasted data is decreasing.\n",
    "Seasonality Analysis:\n",
    "The quarter with maximum sales is Q4 and the month with maximum sales is October.\n",
    "The quarter with minimum sales is Q1 and the month with minimum sales is February.\n",
    "Year-on-Year (YoY) Growth Analysis:\n",
    "The average volume change is 0.411.\n",
    "The maximum volume change occurred in 2021 with a YoY growth of 4.093%.\n",
    "The maximum negative volume change occurred in 2018 with a YoY growth of -1.822%.\n",
    "Conclusion:\n",
    "Based on the analysis, the historical trend is increasing while the forecasted trend is decreasing. The data also shows a seasonal pattern with maximum sales occurring in Q4 and October and minimum sales occurring in Q1 and February. The YoY growth analysis indicates an average volume change of 0.411 with the maximum volume change occurring in 2021 and the maximum negative volume change occurring in 2018.\n",
    "\"\"\"\n",
    "\n",
    "# Define the headings of interest\n",
    "headings_of_interest = [\"Historical Trends\", \"Forecasted Trends\", \"Seasonality Analysis\", \"Year-on-Year (YoY) Growth Analysis\", \"Conclusion\"]\n",
    "\n",
    "# Initialize a dictionary to store the sections\n",
    "result_dict = {heading: \"\" for heading in headings_of_interest}\n",
    "\n",
    "# Split the text based on each heading\n",
    "for heading in headings_of_interest:\n",
    "    start_idx = text.find(heading)\n",
    "    end_idx = text.find(headings_of_interest[(headings_of_interest.index(heading) + 1) % len(headings_of_interest)]) if headings_of_interest.index(heading) + 1 < len(headings_of_interest) else None\n",
    "    result_dict[heading] = text[start_idx:end_idx].strip().replace(heading, \"\").strip()[1:-1]\n",
    "\n",
    "# Display or use the result_dict as needed\n",
    "for heading, content in result_dict.items():\n",
    "    print(f\"{heading}:\\n{content}\")\n",
    "    print('-' * 50)\n"
   ]
  },
  {
   "cell_type": "code",
   "execution_count": 32,
   "metadata": {},
   "outputs": [
    {
     "name": "stdout",
     "output_type": "stream",
     "text": [
      "Historical Trends: \n",
      "The trend for historical data is increasing\n"
     ]
    }
   ],
   "source": [
    "print(f\"{headings_of_interest[0]}: {result_dict['Historical Trends']}\")"
   ]
  },
  {
   "cell_type": "code",
   "execution_count": null,
   "metadata": {},
   "outputs": [],
   "source": []
  }
 ],
 "metadata": {
  "kernelspec": {
   "display_name": "streamlit",
   "language": "python",
   "name": "python3"
  },
  "language_info": {
   "codemirror_mode": {
    "name": "ipython",
    "version": 3
   },
   "file_extension": ".py",
   "mimetype": "text/x-python",
   "name": "python",
   "nbconvert_exporter": "python",
   "pygments_lexer": "ipython3",
   "version": "3.11.0"
  },
  "orig_nbformat": 4
 },
 "nbformat": 4,
 "nbformat_minor": 2
}
